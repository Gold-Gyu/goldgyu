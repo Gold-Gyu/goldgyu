{
 "cells": [
  {
   "cell_type": "code",
   "execution_count": null,
   "metadata": {},
   "outputs": [],
   "source": [
    "words = ['eat', 'tea', 'tan', 'ate', 'nat', 'bat']\n",
    "\n",
    "\n",
    "anagrams = {}\n",
    "\n",
    "\n",
    "\n",
    "for word in words:\n",
    "\n",
    "    temp = sorted(word)\n",
    "    temp = \"\".join(temp)\n",
    "\n",
    "\n",
    "    if anagrams.get(temp):\n",
    "        anagrams[temp].append(word)\n",
    "    else:\n",
    "        anagrams[temp] = [word]\n",
    "\n",
    "print(anagrams.values())"
   ]
  }
 ],
 "metadata": {
  "language_info": {
   "name": "python"
  },
  "orig_nbformat": 4
 },
 "nbformat": 4,
 "nbformat_minor": 2
}
