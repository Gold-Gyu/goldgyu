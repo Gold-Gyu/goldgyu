{
 "cells": [
  {
   "cell_type": "code",
   "execution_count": null,
   "metadata": {},
   "outputs": [],
   "source": [
    "# 어떤 특정 문자가 연속으로 나올 때 누적합\n",
    "# 안나오면 0\n",
    "N = int(input())\n",
    "\n",
    "\n",
    "for i in range(N):\n",
    "    OX = input()\n",
    "    sumscore = 0\n",
    "    score = 0\n",
    "    for j in OX:\n",
    "        if j == \"O\":\n",
    "            score += 1\n",
    "        else:\n",
    "            score = 0\n",
    "        sumscore += score\n",
    "    print(sumscore)\n",
    "    "
   ]
  }
 ],
 "metadata": {
  "language_info": {
   "name": "python"
  },
  "orig_nbformat": 4
 },
 "nbformat": 4,
 "nbformat_minor": 2
}
