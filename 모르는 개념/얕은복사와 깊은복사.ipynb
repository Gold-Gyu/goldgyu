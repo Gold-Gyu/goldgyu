{
 "cells": [
  {
   "cell_type": "code",
   "execution_count": 20,
   "metadata": {},
   "outputs": [
    {
     "name": "stdout",
     "output_type": "stream",
     "text": [
      "char : 9, digit : 3, symbol : 4\n"
     ]
    }
   ],
   "source": [
    "# 문자열이 주어지면 숫자 기호 알파벳이 몇개인지 알아내는 함수\n",
    "def check(input_str):\n",
    "    char_count = 0\n",
    "    digit_count = 0\n",
    "    symbol_count = 0\n",
    "\n",
    "    for char in input_str:\n",
    "        if char.isalpha():\n",
    "            char_count += 1\n",
    "        elif char.isdigit():\n",
    "            digit_count += 1\n",
    "        else:\n",
    "            symbol_count += 1\n",
    "    return char_count, digit_count, symbol_count\n",
    "\n",
    "input_str = \"123#$%aiden_snow\"\n",
    "char_count, digit_count, symbol_count = check(input_str)\n",
    "print(f\"char : {char_count}, digit : {digit_count}, symbol : {symbol_count}\")"
   ]
  },
  {
   "attachments": {},
   "cell_type": "markdown",
   "metadata": {},
   "source": [
    "## set\n",
    "1. 중복 요소가 없이 순서가 상관없는 데이터 들의 묶음\n",
    "    - 순서가 없기 때문에 인덱스를 통한 접근 불가능\n",
    "2. 수학에서의 집합을 표현한 컨테이너\n",
    "3. 요소 변경이 가능하다.\n",
    "3. .pop() 은 제거하지만. **반환**한다 (따라서 pop을 사용할 때는 미리 변수를 설정해두면 제거한 목록들이 반환되어 기록된다.)\n",
    "    - list.pop(index)\n",
    "**딕셔너리와 set은 {}로 이루어지지만 안의 데이터 형태가 key-value인 것은 딕셔너리이다.**\n",
    "## 딕셔너리와 리스트는 정말 많이 쓰이기 때문에 자주 사용해보고 연습해볼것.\n",
    "\n",
    "## dictionary\n",
    "1. key와 value가 한쌍으로 이루어진 자료형.\n",
    "    - key : 변경 불가능한 데이터(string, integer, float, boolean, tuple, range)\n",
    "    - value : 모든 형태 가능\n",
    "2. *d.keys(), d.values(), d.get(key, default), d.items()* 은 꼭 알고 있을 것.\n",
    "    - **items()를 사용하면 순서를 가지고 정렬이 가능해짐**\n",
    "3. d.get()과 변수명[\"key\"]의 차이 (get 메소드를 더 추천함)\n",
    "    - d.get()안에 key값이 없으면 none이 발생\n",
    "    - 변수명[\"key\"]에 key값이 없으면 에러가 발생\n",
    "4. 뷰(반복가능한 개체)를 반복\n",
    "\n",
    "## 복사\n",
    "\n",
    "1. 얕은 복사\n",
    "- 복사를 했는데 같은 데이터를 보고 있는 것(같은 메모리 공간)\n",
    "- 데이터를 바꾸면 원본도 함께 바뀜\n",
    "2. 깊은 복사\n",
    "- 다른 메모리 공간에 복사하는 것(저장공간간에 링크가 안되어있는것. 주소를 참조하지 않는것. 다른 메모리공간에 복사한것)\n",
    "- 깊은 복사를 통해 바꾼 내역은 원본 내역에 영향을 주지 않음.\n",
    "3. 복사 방법\n",
    "- 할당\n",
    "    1. 대입 연산자(=) -> (*얕은 복사*) 대입 연산자를 통한 복사는 해당 객체에 대한 객체 **참조(주소)**를 복사.\n",
    "    2. slice 연산자 ([:]) -> (얕은 복사 **깊은 복사가 되진않음**) 같은 원소를 가지지만 연산된 결과를 **다른 주소**에 복사. 왜? 다른형태의 데이터는 다른 장소에 저장을 한 뒤 처음에 시작했던 메모리 뒤에 저장했던 다른 장소를 가르키는 주소를 이어 붙이기 때문.\n",
    "- **얕은 복사**\n",
    "    \n",
    "- **깊은 복사**\n",
    "    1. **import copy한후 새로운 변수명에 copy.deepcopy(그전 변수명)**\n",
    "        - 단 메모리를 많이 사용한다는 단점이 있음.\n",
    "    2. **import copy한후 새로운 변수명에 copy.copy(그전 변수명)**\n",
    "    - 이렇게하면 깊은 복사가 되서 주소를 함께 참조하지 않게됨\n",
    "\n",
    "# 리스트를 복사하고 싶다는 욕망이 든다면 *무조건 print해볼것*\n",
    "\n",
    "## sort와 sorted의 차이\n"
   ]
  },
  {
   "cell_type": "code",
   "execution_count": 21,
   "metadata": {},
   "outputs": [
    {
     "name": "stdout",
     "output_type": "stream",
     "text": [
      "original list :  55\n",
      "[11, 22, 33, 66, 77]\n",
      "[11, 22, 55, 33, 66, 77]\n",
      "(44, 55)\n",
      "[1, 2, 3, 4, 5, 6, 7]\n",
      "[('eng', 88), ('sci', 90), ('math', 80)]\n",
      "[('eng', 88), ('math', 80), ('sci', 90)]\n",
      "[('math', 80), ('eng', 88), ('sci', 90)]\n"
     ]
    }
   ],
   "source": [
    "# list.pop(index) 예시\n",
    "# list.insert(index, 넣을 값) 예시\n",
    "\n",
    "sample_list = [11, 22, 33, 55, 66]\n",
    "\n",
    "# 주어진 리스트의 4번째 자리에 있는항목을 제거하고 변수에 할당해주세요\n",
    "answer = sample_list.pop(3)\n",
    "print(\"original list : \", answer)\n",
    "\n",
    "# smaple_list의 가장 뒤에 77 추가해보ㅔ요\n",
    "sample_list.append(77)\n",
    "print(sample_list)\n",
    "\n",
    "# 할당해놓은 변수의 값을 sample_lkist의 2번 index에 추가해보세요\n",
    "sample_list.insert(2, answer)\n",
    "print(sample_list)\n",
    "\n",
    "\n",
    "\n",
    "#튜플\n",
    "\n",
    "\n",
    "#튜플에도 인덱스가 있음\n",
    "my_tuple = (11, 22, 33 ,44, 55 ,66)\n",
    "# 주어진 튜플에서 44와 55의 값을 새로운 튜플에 할당해보세요\n",
    "new_tuple = my_tuple[3:5] \n",
    "print(new_tuple)\n",
    "\n",
    "\n",
    "\n",
    "#람다\n",
    "\n",
    "\n",
    "\n",
    "#람다를 통한 정렬 방법\n",
    "\n",
    "test_list = [1, 2, 3, 7, 4, 6, 5]\n",
    "test_list.sort()\n",
    "print(test_list)\n",
    "\n",
    "scores = [('eng', 88), ('sci', 90), ('math', 80)]\n",
    "print(scores)\n",
    "scores.sort() # 이 경우 맨 앞에 있는 값(eng, sci, math)를 중심으로 정렬을 함\n",
    "print(scores)\n",
    "\n",
    "# 뒤 값을(88, 90, 80)을 중심으로 정렬하고 싶을 때\n",
    "scoress = [('eng', 88), ('sci', 90), ('math', 80)]\n",
    "\n",
    "\"\"\"\n",
    "def check(x):\n",
    "    return x[1]\n",
    "\n",
    "scoress.sort(key = check)\n",
    "\"\"\"\n",
    "# 또는 람다 함수를 활용해서.. 람다는 함수를 다시 사용하지 않을 것 같을 때 사용\n",
    "scoress.sort(key = lambda x : x[1])\n",
    "print(scoress)\n"
   ]
  },
  {
   "cell_type": "code",
   "execution_count": 23,
   "metadata": {},
   "outputs": [
    {
     "name": "stdout",
     "output_type": "stream",
     "text": [
      "2927020943936\n",
      "2927020943936\n",
      "[0, 80, 100]\n",
      "[0, 80, 100]\n"
     ]
    }
   ],
   "source": [
    "# 얕은 복사\n",
    "\n",
    "scores = [90, 80, 100]\n",
    "new_scores = scores\n",
    "\n",
    "print(id(scores))\n",
    "print(id(new_scores))\n",
    "\n",
    "# 같은 주소에 들어가 있다.\n",
    "\n",
    "new_scores[0] = 0\n",
    "\n",
    "print(scores)\n",
    "print(new_scores)\n",
    "\n",
    "# 같은 주소기 때문에 원본과 함께 수정됨"
   ]
  },
  {
   "cell_type": "code",
   "execution_count": 25,
   "metadata": {},
   "outputs": [
    {
     "name": "stdout",
     "output_type": "stream",
     "text": [
      "2927021625344\n",
      "2927021600576\n"
     ]
    }
   ],
   "source": [
    "# 깊은 복사 1\n",
    "scores = [90, 80, 100]\n",
    "new_scores = []\n",
    "\n",
    "for num in scores:\n",
    "    new_scores.append(num)\n",
    "\n",
    "print(id(scores))\n",
    "print(id(new_scores))\n",
    "\n",
    "#서로 다른 주소(변수의 고유 값이 다르다)"
   ]
  },
  {
   "cell_type": "code",
   "execution_count": 26,
   "metadata": {},
   "outputs": [
    {
     "name": "stdout",
     "output_type": "stream",
     "text": [
      "2927021720256\n",
      "2927021602304\n"
     ]
    }
   ],
   "source": [
    "# 깊은 복사 2\n",
    "\n",
    "# from copy import deepcopy\n",
    "import copy\n",
    "scores = [90, 80, 100]\n",
    "new_scores = copy.deepcopy(scores)\n",
    "\n",
    "print(id(scores))\n",
    "print(id(new_scores))\n",
    "\n",
    "# 다른 주소값을 가짐"
   ]
  },
  {
   "cell_type": "code",
   "execution_count": 28,
   "metadata": {},
   "outputs": [
    {
     "name": "stdout",
     "output_type": "stream",
     "text": [
      "2927021590912\n",
      "2927021596928\n",
      "2927021566720\n",
      "2929163256448\n",
      "2927021720384\n",
      "2927021720384\n"
     ]
    }
   ],
   "source": [
    "# 슬라이싱 연사자를 통한 복사\n",
    "# 깊은 복사같지만 실제로는 얕은 복사\n",
    "\n",
    "\n",
    "scores = [10, 20, 30]\n",
    "new_scores = scores[:]\n",
    "\n",
    "print(id(scores))\n",
    "print(id(new_scores))\n",
    "\n",
    "# 서로 다른 주소를 가짐. 하지만.\n",
    "\n",
    "# 리스트 안에 참조(리스트, 객체 등)이 존재한다면\n",
    "scores = [10, 20, [30, 40]]\n",
    "new_scores = scores[:]\n",
    "\n",
    "print(id(scores))\n",
    "print(id(new_scores))\n",
    "\n",
    "# 서로 다른 주소를 가지지만\n",
    "\n",
    "print(id(scores[2]))\n",
    "print(id(new_scores[2]))\n",
    "\n",
    "# 리스트안에 참조된 것은 같은 주소를 가짐"
   ]
  },
  {
   "cell_type": "code",
   "execution_count": 29,
   "metadata": {},
   "outputs": [
    {
     "name": "stdout",
     "output_type": "stream",
     "text": [
      "2927021185200\n",
      "2927021185200\n"
     ]
    }
   ],
   "source": [
    "# 문자열 깊은 복사\n",
    "\n",
    "from copy import deepcopy\n",
    "\n",
    "a = \"12345\"\n",
    "b = deepcopy(a)\n",
    "\n",
    "print(id(a))\n",
    "print(id(b))\n",
    "\n",
    "#문자열은 불변이기 때문에 주소를 그대로 사용한다. 따라서 문자열을 깊은복사하고 싶으면 리스트로 만들어야한다.\n",
    "#문자열은 불변, 리스트는 가변"
   ]
  }
 ],
 "metadata": {
  "kernelspec": {
   "display_name": "Python 3",
   "language": "python",
   "name": "python3"
  },
  "language_info": {
   "codemirror_mode": {
    "name": "ipython",
    "version": 3
   },
   "file_extension": ".py",
   "mimetype": "text/x-python",
   "name": "python",
   "nbconvert_exporter": "python",
   "pygments_lexer": "ipython3",
   "version": "3.11.1 (tags/v3.11.1:a7a450f, Dec  6 2022, 19:58:39) [MSC v.1934 64 bit (AMD64)]"
  },
  "orig_nbformat": 4,
  "vscode": {
   "interpreter": {
    "hash": "a28b486d3d796f7b3332da4f2f6544d26413b46d73c8f9c0d089d5fd493f7556"
   }
  }
 },
 "nbformat": 4,
 "nbformat_minor": 2
}
