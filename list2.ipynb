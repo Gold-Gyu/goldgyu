{
 "cells": [
  {
   "attachments": {},
   "cell_type": "markdown",
   "metadata": {},
   "source": [
    "# 카운팅 정렬\n",
    "- 항목들의 순서를 결정하기 위해 집합에 각 항목이 몇 개씩 있는지 세는 작업을 하여 선형 시간에 정렬하는 효율적인 알고리즘\n",
    "- 정수나 정수로 표현할 수 있는 자료에 대해서만 적용 가능 : 각 항목의 발생 횟수를 기록하기 위해 정수 항목으로 인덱스 되는 카운트들의 배열을 사용하기 때문.\n",
    "- 정수의 최대값이 생성할 리스트의 길이이다.\n",
    "\n",
    "## 리스트 생성법\n",
    "cnt = [0] * 10 => 0에서부터 9까지 10개 생성\n",
    "없는 인덱스를 가져오는 오류가 많기 때문에 딱 맞게 리스트를 생성할 것.\n",
    "- 시간 복잡도 : O(n+k) \n",
    "\n",
    "## [0, 4, 1, 3, 1, 2, 4, 1]\n",
    "\n",
    "1. data에서 각 항목들의 발생 횟수를 세고, 정수 항목들로 직접 인덱스 되는 카운트 배열 counts에 저장한다.\n",
    "2. 정렬된 집합에서 각 항목의 앞에 위치할 항목의 개수를 반영하기 위해 counts의 원소를 조정한다.\n",
    "=> 누적 방법 코드(자기자신 전 개수와 자기 자신의 숫자를 누적해가는 방법) : **counts[i] += counts[i-1]**\n",
    "3. \n",
    "\n",
    "**뒤에서부터 요소를 읽어오는 방법**\n",
    "range(len(A)-1, -1, -1)\n",
    "\n",
    "뒤에서 부터 읽어서 뒤에서 채우면 안정정렬이 됩니다. 안정정렬은 값이 같은 경우 정렬되기 전의 순서가 정렬후에도 유지됩니다.\n",
    "\n",
    "\n",
    "# baby-gin game\n",
    "- 완전검색 : 생각할 수 있는 모든 경우의 수를 나열해보고 확인하는 기법, 경우의 수가 상대적으로 작을 때 유리.\n",
    "- 순열 만드는 법\n",
    "    1. 서로 다른 것들 중 몇개를 뽑아서 한 줄로 나열하는 것\n",
    "    2. 서로 다른 n개 중 r개를 택하는 순열 = nPr\n",
    "    3. nPr = n * n-1 * n-2 ..... (n-r+1) = **n! / (n-r)!**\n",
    "\n",
    "- 탐욕 알고리즘 : 여러 경우 중 최적이라 생각되는 것을 선택하여 최종 해답에 도달\n"
   ]
  },
  {
   "cell_type": "code",
   "execution_count": 1,
   "metadata": {},
   "outputs": [
    {
     "name": "stdout",
     "output_type": "stream",
     "text": [
      "[0, 0, 1, 2, 1, 3, 0, 1, 0, 0]\n"
     ]
    }
   ],
   "source": [
    "A = [ 7, 2, 5, 3, 4, 5, 3, 5]\n",
    "\n",
    "cnt = [0] * 10\n",
    "for x in A:\n",
    "    cnt[x] += 1\n",
    "print(cnt)"
   ]
  },
  {
   "cell_type": "code",
   "execution_count": 19,
   "metadata": {},
   "outputs": [
    {
     "name": "stdout",
     "output_type": "stream",
     "text": [
      "[1, 3, 1, 1, 2]\n",
      "[1, 4, 5, 6, 8]\n",
      "[1, 3, 5, 6, 8]\n",
      "[1, 3, 5, 6, 7]\n",
      "[1, 3, 4, 6, 7]\n",
      "[1, 2, 4, 6, 7]\n",
      "[1, 2, 4, 5, 7]\n",
      "[1, 1, 4, 5, 7]\n",
      "[1, 1, 4, 5, 6]\n",
      "[0, 1, 4, 5, 6]\n",
      "[0, 1, 1, 1, 2, 3, 4, 4]\n"
     ]
    }
   ],
   "source": [
    "# [0, 4, 1, 3, 1, 2, 4, 1] 을 카운팅 정렬하는 과정\n",
    "\n",
    "data = [0, 4, 1, 3, 1, 2, 4, 1]\n",
    "counts = [0] * 5\n",
    "temp = [0] * 8\n",
    "\n",
    "\n",
    "for x in data:\n",
    "    counts[x] += 1\n",
    "print(counts)\n",
    "for i in range(1, 5):\n",
    "    counts[i] = counts[i-1] + counts[i]\n",
    "print(counts)\n",
    "\n",
    "\n",
    "\n",
    "for i in range(len(temp)-1, -1, -1): # i = 7 6 5 4 3 2 1 0\n",
    "    counts[data[i]] -= 1\n",
    "    temp[counts[data[i]]] = data[i]\n",
    "    print(counts)\n",
    "print(temp)\n"
   ]
  },
  {
   "cell_type": "code",
   "execution_count": 18,
   "metadata": {},
   "outputs": [],
   "source": [
    "def counting_sort_asc(A, B, k):\n",
    "    # A : 정렬대상\n",
    "    # B : 정렬결과\n",
    "    # k : 정렬 대상 중 최대값\n",
    "    # C : 카운트배열(원소의 개수를 세주고, 자리를 정해준다.)\n",
    "    C = [0] * (k+1)\n",
    "\n",
    "    #1. 원소의 등장횟수를 센다.\n",
    "    for i in range(len(A)):\n",
    "        # A[i]의 등장횟수를 증가 시켜준다.\n",
    "        # C[A[i]] = A[i]의 등장횟수\n",
    "        C[A[i]] += 1\n",
    "\n",
    "    #2. 각 원소의 등장횟수를 계산해서 내가 들어갈 자리의 위치를 구해준다.\n",
    "    for i in range(1, len(C)):\n",
    "        # i 번째 원소의 앞에 몇개의 원소가 있는지 확인하면\n",
    "        # i 번째 원소가 최소 몇 번째 부터 등장하게 되는지 결과배열의 자리를 알 수 있게 된다.\n",
    "        C[i] += C[i-1]\n",
    "\n",
    "\n",
    "    #3. 뒤에서부터 A를 확인하면서 자리를 확인하고 채워준다\n",
    "    # 자리를채울때마다 1 감소시켜야 다음 원소가 들어올떄 자리 중복을 안한다.\n",
    "\n",
    "    for i in range(len(B)-1, -1, -1):\n",
    "        # C[A[i]] => A[i] 원소가 들어갈 자리(들어가기 전에 -1 해준다\n",
    "        C[A[i]] -= 1\n",
    "\n",
    "        # 정렬 결과 대상의 자리에 A[i]를 넣어준다\n",
    "        B[C[A[i]]] = A[i]\n",
    "\n",
    "\n",
    "nums = [0, 4, 1, 3, 1, 2, 4, 1]\n",
    "result_asc = [0]*8\n",
    "counting_sort_asc(nums, result_asc, max(nums))"
   ]
  },
  {
   "cell_type": "code",
   "execution_count": 10,
   "metadata": {},
   "outputs": [
    {
     "name": "stdout",
     "output_type": "stream",
     "text": [
      "1 2 3\n",
      "1 3 2\n",
      "2 1 3\n",
      "2 3 1\n",
      "3 1 2\n",
      "3 2 1\n"
     ]
    }
   ],
   "source": [
    "# 1, 2, 3을 포함하는 모든 순열을 생성하는 함수\n",
    "\n",
    "for i1 in range(1, 4):\n",
    "    for i2 in range(1, 4):\n",
    "        if i2 != i1:\n",
    "            for i3 in range(1, 4):\n",
    "                if i3 != i1 and i3 != i2:\n",
    "                    print(i1, i2, i3)"
   ]
  },
  {
   "cell_type": "code",
   "execution_count": 13,
   "metadata": {},
   "outputs": [
    {
     "name": "stdout",
     "output_type": "stream",
     "text": [
      "45678\n",
      "[0, 0, 0, 0, 0, 0, 0, 0, 0, 1]\n",
      "4567\n",
      "[0, 0, 0, 0, 0, 0, 0, 0, 1, 1]\n",
      "456\n",
      "[0, 0, 0, 0, 0, 0, 0, 1, 1, 1]\n",
      "45\n",
      "[0, 0, 0, 0, 0, 0, 1, 1, 1, 1]\n",
      "4\n",
      "[0, 0, 0, 0, 0, 1, 1, 1, 1, 1]\n",
      "0\n",
      "[0, 0, 0, 0, 1, 1, 1, 1, 1, 1]\n"
     ]
    }
   ],
   "source": [
    "# 꼭 기억해야하는 코드\n",
    "\n",
    "num = 456789\n",
    "c = [0] * 10\n",
    "\n",
    "for i in range(6):\n",
    "    c[num%10] += 1\n",
    "    num //= 10\n",
    "\n",
    "    print(num)\n",
    "    print(c)\n"
   ]
  }
 ],
 "metadata": {
  "kernelspec": {
   "display_name": "Python 3",
   "language": "python",
   "name": "python3"
  },
  "language_info": {
   "codemirror_mode": {
    "name": "ipython",
    "version": 3
   },
   "file_extension": ".py",
   "mimetype": "text/x-python",
   "name": "python",
   "nbconvert_exporter": "python",
   "pygments_lexer": "ipython3",
   "version": "3.11.1 (tags/v3.11.1:a7a450f, Dec  6 2022, 19:58:39) [MSC v.1934 64 bit (AMD64)]"
  },
  "orig_nbformat": 4,
  "vscode": {
   "interpreter": {
    "hash": "a28b486d3d796f7b3332da4f2f6544d26413b46d73c8f9c0d089d5fd493f7556"
   }
  }
 },
 "nbformat": 4,
 "nbformat_minor": 2
}
