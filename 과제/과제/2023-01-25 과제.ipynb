{
 "cells": [
  {
   "cell_type": "code",
   "execution_count": 1,
   "metadata": {},
   "outputs": [
    {
     "name": "stdout",
     "output_type": "stream",
     "text": [
      "970103-*******\n",
      "861123*******\n"
     ]
    }
   ],
   "source": [
    "# A. 입력예시\n",
    "# print(de_identify('970103-1234567'))\n",
    "# print(de_identify('8611232345678'))\n",
    "\n",
    "# B. 출력예시\n",
    "# 970103*******\n",
    "# 861123******* \n",
    "\n",
    "\n",
    "# 파라미터 값이 정해지지 않았을 때 함수 설정하는 법\n",
    "\n",
    "\n",
    "def de_identify(num):\n",
    "\n",
    "    a = num.replace(num[-7:], \"*******\")\n",
    "    \n",
    "    return a\n",
    "\n",
    "print(de_identify('970103-1234567'))\n",
    "print(de_identify('8611232345678'))"
   ]
  },
  {
   "cell_type": "code",
   "execution_count": 8,
   "metadata": {},
   "outputs": [
    {
     "name": "stdout",
     "output_type": "stream",
     "text": [
      "4500\n"
     ]
    }
   ],
   "source": [
    "grain_lst = [('고구마',3000), ('감자',2000), ('옥수수',4500),('토란',1300)]\n",
    "\n",
    "lst_ = []\n",
    "for i in range(len(grain_lst)):\n",
    "    lst_.append(grain_lst[i][1])\n",
    "print(max(lst_))"
   ]
  }
 ],
 "metadata": {
  "kernelspec": {
   "display_name": "Python 3",
   "language": "python",
   "name": "python3"
  },
  "language_info": {
   "codemirror_mode": {
    "name": "ipython",
    "version": 3
   },
   "file_extension": ".py",
   "mimetype": "text/x-python",
   "name": "python",
   "nbconvert_exporter": "python",
   "pygments_lexer": "ipython3",
   "version": "3.11.1"
  },
  "orig_nbformat": 4,
  "vscode": {
   "interpreter": {
    "hash": "a28b486d3d796f7b3332da4f2f6544d26413b46d73c8f9c0d089d5fd493f7556"
   }
  }
 },
 "nbformat": 4,
 "nbformat_minor": 2
}
