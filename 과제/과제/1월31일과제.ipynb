{
 "cells": [
  {
   "cell_type": "code",
   "execution_count": 15,
   "metadata": {},
   "outputs": [
    {
     "name": "stdout",
     "output_type": "stream",
     "text": [
      "4\n",
      "8\n",
      "True\n",
      "9\n",
      "12\n",
      "True\n"
     ]
    }
   ],
   "source": [
    "class Point:\n",
    "\n",
    "    def __init__(self, x, y):\n",
    "        self.x = x\n",
    "        self.y = y\n",
    "\n",
    "class Rectangle:\n",
    "\n",
    "    def __init__(self, q1, q2):\n",
    "        self.p1 = q1\n",
    "        self.p2 = q2\n",
    "    \n",
    "    def get_area(self):\n",
    "        \n",
    "        x_ = abs(self.p1.x - self.p2.x)\n",
    "        y_ = abs(self.p1.y - self.p2.y)\n",
    "        return x_ * y_\n",
    "\n",
    "    def get_perimeter(self):\n",
    "        x_ = abs(self.p1.x - self.p2.x)\n",
    "        y_ = abs(self.p1.y - self.p2.y)\n",
    "        return (x_ *  2) + (y_ * 2)\n",
    "    \n",
    "    def is_square(self):\n",
    "        x_ = abs(self.p1.x - self.p2.x)\n",
    "        y_ = abs(self.p1.y - self.p2.y)\n",
    "        if x_ == y_:\n",
    "            return True\n",
    "        else:\n",
    "            return False\n",
    "\n",
    "\n",
    "\n",
    "\n",
    "p1 = Point(1, 3)\n",
    "p2 = Point(3, 1)\n",
    "r1 = Rectangle(p1, p2)\n",
    "print(r1.get_area())\n",
    "print(r1.get_perimeter())\n",
    "print(r1.is_square())\n",
    "\n",
    "p3 = Point(3, 7)\n",
    "p4 = Point(6, 4)\n",
    "r2 = Rectangle(p3, p4)\n",
    "print(r2.get_area())\n",
    "print(r2.get_perimeter())\n",
    "print(r2.is_square())\n",
    "\n",
    "# 출력 예시\n",
    "# 4\n",
    "# 8\n",
    "# True\n",
    "\n",
    "# 9\n",
    "# 12\n",
    "# True"
   ]
  },
  {
   "cell_type": "code",
   "execution_count": 7,
   "metadata": {},
   "outputs": [
    {
     "ename": "TypeError",
     "evalue": "'NoneType' object is not subscriptable",
     "output_type": "error",
     "traceback": [
      "\u001b[0;31m---------------------------------------------------------------------------\u001b[0m",
      "\u001b[0;31mTypeError\u001b[0m                                 Traceback (most recent call last)",
      "Cell \u001b[0;32mIn[7], line 35\u001b[0m\n\u001b[1;32m     33\u001b[0m a\u001b[39m.\u001b[39mpop()\n\u001b[1;32m     34\u001b[0m a\u001b[39m.\u001b[39mpush(\u001b[39m'\u001b[39m\u001b[39mhi\u001b[39m\u001b[39m'\u001b[39m)\n\u001b[0;32m---> 35\u001b[0m a\u001b[39m.\u001b[39;49mtop()\n",
      "Cell \u001b[0;32mIn[7], line 14\u001b[0m, in \u001b[0;36mStack.top\u001b[0;34m(self)\u001b[0m\n\u001b[1;32m     12\u001b[0m \u001b[39mdef\u001b[39;00m \u001b[39mtop\u001b[39m(\u001b[39mself\u001b[39m):\n\u001b[1;32m     13\u001b[0m     \u001b[39mif\u001b[39;00m \u001b[39mself\u001b[39m\u001b[39m.\u001b[39mlst \u001b[39m!=\u001b[39m []:\n\u001b[0;32m---> 14\u001b[0m         \u001b[39mreturn\u001b[39;00m \u001b[39mself\u001b[39;49m\u001b[39m.\u001b[39;49mlst[\u001b[39m-\u001b[39;49m\u001b[39m1\u001b[39;49m]\n\u001b[1;32m     15\u001b[0m     \u001b[39melse\u001b[39;00m:\n\u001b[1;32m     16\u001b[0m         \u001b[39mreturn\u001b[39;00m \u001b[39mNone\u001b[39;00m\n",
      "\u001b[0;31mTypeError\u001b[0m: 'NoneType' object is not subscriptable"
     ]
    }
   ],
   "source": [
    "class Stack:\n",
    "\n",
    "    def __init__(self):\n",
    "        self.lst = []\n",
    "\n",
    "    def empty(self):\n",
    "        if len(self.lst) != 0:\n",
    "            return False\n",
    "        else:\n",
    "            return True\n",
    "\n",
    "    def top(self):\n",
    "        if self.lst != []:\n",
    "            return self.lst[-1]\n",
    "        else:\n",
    "            return None\n",
    "\n",
    "    def pop(self):\n",
    "        if len(self.lst) != 0:\n",
    "            return self.lst.pop(-1)\n",
    "        else:\n",
    "            return \n",
    "    \n",
    "    def push(self, data):\n",
    "\n",
    "        self.lst = self.lst.append(data)\n",
    "\n",
    "    def __repr__(self):\n",
    "        return f'내 요소는 {self.lst}'\n",
    "\n",
    "a = Stack()\n",
    "a.empty()\n",
    "a.pop()\n",
    "a.push('hi')\n",
    "a.top()\n",
    "\n"
   ]
  }
 ],
 "metadata": {
  "kernelspec": {
   "display_name": "Python 3",
   "language": "python",
   "name": "python3"
  },
  "language_info": {
   "codemirror_mode": {
    "name": "ipython",
    "version": 3
   },
   "file_extension": ".py",
   "mimetype": "text/x-python",
   "name": "python",
   "nbconvert_exporter": "python",
   "pygments_lexer": "ipython3",
   "version": "3.11.1 (v3.11.1:a7a450f84a, Dec  6 2022, 15:24:06) [Clang 13.0.0 (clang-1300.0.29.30)]"
  },
  "orig_nbformat": 4,
  "vscode": {
   "interpreter": {
    "hash": "aee8b7b246df8f9039afb4144a1f6fd8d2ca17a180786b69acc140d282b71a49"
   }
  }
 },
 "nbformat": 4,
 "nbformat_minor": 2
}
