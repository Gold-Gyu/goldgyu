{
 "cells": [
  {
   "cell_type": "code",
   "execution_count": 4,
   "metadata": {},
   "outputs": [
    {
     "name": "stdout",
     "output_type": "stream",
     "text": [
      "16\n"
     ]
    }
   ],
   "source": [
    "# 3-3\n",
    "\n",
    "infos = [{'name': 'kim', 'age': 12}, {'name': 'lee', 'age': 4}]\n",
    "\n",
    "lst = []\n",
    "for info in infos:\n",
    "    lst.append(info.get('age'))\n",
    "\n",
    "sum_ = 0\n",
    "for i in lst:\n",
    "    sum_ += i\n",
    "\n",
    "print(sum_)\n"
   ]
  },
  {
   "cell_type": "code",
   "execution_count": 9,
   "metadata": {},
   "outputs": [
    {
     "name": "stdout",
     "output_type": "stream",
     "text": [
      "{'A': 5, 'O': 7, 'B': 8, 'AB': 9}\n"
     ]
    }
   ],
   "source": [
    "# 3 - 4\n",
    "\n",
    "blood_types = [ 'A','A','O', 'B', 'A', 'O', 'AB','O', 'A', 'B', 'O', 'B', 'AB']\n",
    "\n",
    "blood_dic = {}\n",
    "cnt = 0\n",
    "for blood in blood_types:\n",
    "    if blood in blood_dic:\n",
    "        cnt += 1\n",
    "        blood_dic[blood] = cnt\n",
    "        \n",
    "    else:\n",
    "        blood_dic[blood] = 1\n",
    "\n",
    "print(blood_dic)"
   ]
  },
  {
   "cell_type": "code",
   "execution_count": null,
   "metadata": {},
   "outputs": [],
   "source": [
    "# 3 - 5\n",
    "n = 0\n",
    "while n < 5:\n",
    "    percent_ = input('소금물의 퍼센트 농도를 입력하세요')\n",
    "    saltwater = input('소금물의 양을 입력하세요')\n",
    "\n"
   ]
  }
 ],
 "metadata": {
  "kernelspec": {
   "display_name": "Python 3",
   "language": "python",
   "name": "python3"
  },
  "language_info": {
   "codemirror_mode": {
    "name": "ipython",
    "version": 3
   },
   "file_extension": ".py",
   "mimetype": "text/x-python",
   "name": "python",
   "nbconvert_exporter": "python",
   "pygments_lexer": "ipython3",
   "version": "3.11.1 (v3.11.1:a7a450f84a, Dec  6 2022, 15:24:06) [Clang 13.0.0 (clang-1300.0.29.30)]"
  },
  "orig_nbformat": 4,
  "vscode": {
   "interpreter": {
    "hash": "aee8b7b246df8f9039afb4144a1f6fd8d2ca17a180786b69acc140d282b71a49"
   }
  }
 },
 "nbformat": 4,
 "nbformat_minor": 2
}
