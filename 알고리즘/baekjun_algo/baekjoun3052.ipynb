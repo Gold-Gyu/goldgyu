{
 "cells": [
  {
   "cell_type": "code",
   "execution_count": 26,
   "metadata": {},
   "outputs": [
    {
     "name": "stdout",
     "output_type": "stream",
     "text": [
      "{1, 2, 3, 4, 5, 6, 7, 8}\n",
      "8\n"
     ]
    }
   ],
   "source": [
    "# 리스트 간에 서로 다른 요소들의 갯수 구하기\n",
    "# 하나의 리스트 안에서 요소들 비교하는 법\n",
    "# set\n",
    "\n",
    "list_1 = []\n",
    "\n",
    "for num in range(10):\n",
    "    A = int(input())\n",
    "    test = A % 42\n",
    "    list_1.append(test)\n",
    "\n",
    "list_1 = set(list_1)\n",
    "print(len(list_1))"
   ]
  },
  {
   "cell_type": "code",
   "execution_count": 30,
   "metadata": {},
   "outputs": [
    {
     "name": "stdout",
     "output_type": "stream",
     "text": [
      "8\n"
     ]
    }
   ],
   "source": [
    "# 리스트 간에 서로 다른 요소들의 갯수 구하기\n",
    "# 하나의 리스트 안에서 요소들 비교하는 법\n",
    "# not in\n",
    "\n",
    "list_1 = []\n",
    "ans = 0\n",
    "for num in range(10):\n",
    "    A = int(input())\n",
    "    test = A % 42\n",
    "    \n",
    "     \n",
    "    if test not in list_1:\n",
    "        list_1.append(test)\n",
    "        ans += 1\n",
    "print(ans)\n",
    "    \n"
   ]
  }
 ],
 "metadata": {
  "kernelspec": {
   "display_name": "Python 3",
   "language": "python",
   "name": "python3"
  },
  "language_info": {
   "codemirror_mode": {
    "name": "ipython",
    "version": 3
   },
   "file_extension": ".py",
   "mimetype": "text/x-python",
   "name": "python",
   "nbconvert_exporter": "python",
   "pygments_lexer": "ipython3",
   "version": "3.11.1"
  },
  "orig_nbformat": 4,
  "vscode": {
   "interpreter": {
    "hash": "aee8b7b246df8f9039afb4144a1f6fd8d2ca17a180786b69acc140d282b71a49"
   }
  }
 },
 "nbformat": 4,
 "nbformat_minor": 2
}
