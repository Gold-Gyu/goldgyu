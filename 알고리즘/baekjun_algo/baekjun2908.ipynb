{
 "cells": [
  {
   "cell_type": "code",
   "execution_count": 25,
   "metadata": {},
   "outputs": [
    {
     "name": "stdout",
     "output_type": "stream",
     "text": [
      "938\n"
     ]
    }
   ],
   "source": [
    "# 문자열 역수 방법\n",
    "#[::-1]\n",
    "\n",
    "A, B = input().split()\n",
    "\n",
    "str_ = ''\n",
    "str2_ = ''\n",
    "for i in A:\n",
    "    str_ = i + str_\n",
    "\n",
    "\n",
    "for i in B:\n",
    "    str2_ = i + str2_\n",
    "\n",
    "if int(str_) > int(str2_):\n",
    "    print(str_)\n",
    "else:\n",
    "    print(str2_)"
   ]
  }
 ],
 "metadata": {
  "kernelspec": {
   "display_name": "Python 3",
   "language": "python",
   "name": "python3"
  },
  "language_info": {
   "codemirror_mode": {
    "name": "ipython",
    "version": 3
   },
   "file_extension": ".py",
   "mimetype": "text/x-python",
   "name": "python",
   "nbconvert_exporter": "python",
   "pygments_lexer": "ipython3",
   "version": "3.11.1"
  },
  "orig_nbformat": 4,
  "vscode": {
   "interpreter": {
    "hash": "aee8b7b246df8f9039afb4144a1f6fd8d2ca17a180786b69acc140d282b71a49"
   }
  }
 },
 "nbformat": 4,
 "nbformat_minor": 2
}
