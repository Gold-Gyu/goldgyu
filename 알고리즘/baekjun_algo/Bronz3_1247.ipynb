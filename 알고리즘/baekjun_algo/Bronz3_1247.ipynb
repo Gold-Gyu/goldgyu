{
 "cells": [
  {
   "cell_type": "code",
   "execution_count": null,
   "metadata": {},
   "outputs": [],
   "source": [
    "T = int(input())\n",
    "lst1 = []\n",
    "lst2 = []\n",
    "lst3 = []\n",
    "for tc in range(1, T+1):\n",
    "    A = int(input())\n",
    "    lst1.append(A)\n",
    "\n",
    "T2 = int(input())\n",
    "for tc2 in range(1, T2 + 1):\n",
    "    B = int(input())\n",
    "    lst2.append(B)\n",
    "\n",
    "T3 = int(input())\n",
    "for tc2 in range(1, T3 + 1):\n",
    "    C = int(input())\n",
    "    lst3.append(C)\n",
    "\n",
    "ans1 = 0\n",
    "for i in lst1:\n",
    "    ans1 += i\n",
    "\n",
    "ans2 = 0\n",
    "for j in lst2:\n",
    "    ans2 += j\n",
    "\n",
    "\n",
    "ans3 = 0\n",
    "for k in lst3:\n",
    "    ans3 += k\n",
    "\n",
    "if ans1 > 0:\n",
    "    print(\"+\")\n",
    "elif ans1 < 0:\n",
    "    print(\"-\")\n",
    "else:\n",
    "    print(0)\n",
    "\n",
    "if ans2 > 0:\n",
    "    print(\"+\")\n",
    "elif ans2 < 0:\n",
    "    print(\"-\")\n",
    "else:\n",
    "    print(0)\n",
    "\n",
    "if ans3 > 0:\n",
    "    print(\"+\")\n",
    "elif ans3 < 0:\n",
    "    print(\"-\")\n",
    "else:\n",
    "    print(0)"
   ]
  }
 ],
 "metadata": {
  "kernelspec": {
   "display_name": "Python 3",
   "language": "python",
   "name": "python3"
  },
  "language_info": {
   "name": "python",
   "version": "3.11.1 (v3.11.1:a7a450f84a, Dec  6 2022, 15:24:06) [Clang 13.0.0 (clang-1300.0.29.30)]"
  },
  "orig_nbformat": 4,
  "vscode": {
   "interpreter": {
    "hash": "aee8b7b246df8f9039afb4144a1f6fd8d2ca17a180786b69acc140d282b71a49"
   }
  }
 },
 "nbformat": 4,
 "nbformat_minor": 2
}
