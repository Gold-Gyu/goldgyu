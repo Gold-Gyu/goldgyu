{
 "cells": [
  {
   "cell_type": "code",
   "execution_count": 15,
   "metadata": {},
   "outputs": [
    {
     "name": "stdout",
     "output_type": "stream",
     "text": [
      "14 30 30\n"
     ]
    }
   ],
   "source": [
    "A, B, C = map(int,input().split())\n",
    "second = int(input())\n",
    "\n",
    "if C + second >= 60:\n",
    "    B = B + ((C + second) // 60)\n",
    "    C = ((C + second) % 60)\n",
    "    if B >= 60:\n",
    "        A = A + (B // 60)\n",
    "        B = (B % 60)\n",
    "        if A >= 24:\n",
    "            A  = (A % 24)\n",
    "else:\n",
    "    C = C + second\n",
    "            \n",
    "\n",
    "print(A, B, C)"
   ]
  }
 ],
 "metadata": {
  "kernelspec": {
   "display_name": "Python 3",
   "language": "python",
   "name": "python3"
  },
  "language_info": {
   "codemirror_mode": {
    "name": "ipython",
    "version": 3
   },
   "file_extension": ".py",
   "mimetype": "text/x-python",
   "name": "python",
   "nbconvert_exporter": "python",
   "pygments_lexer": "ipython3",
   "version": "3.11.1"
  },
  "orig_nbformat": 4,
  "vscode": {
   "interpreter": {
    "hash": "aee8b7b246df8f9039afb4144a1f6fd8d2ca17a180786b69acc140d282b71a49"
   }
  }
 },
 "nbformat": 4,
 "nbformat_minor": 2
}
