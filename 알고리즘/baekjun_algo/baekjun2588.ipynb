{
 "cells": [
  {
   "cell_type": "code",
   "execution_count": 15,
   "metadata": {},
   "outputs": [
    {
     "name": "stdout",
     "output_type": "stream",
     "text": [
      "2360\n",
      "3776\n",
      "1416\n",
      "181720\n"
     ]
    }
   ],
   "source": [
    "N1 = input()\n",
    "N2 = input()\n",
    "\n",
    "list1 = []\n",
    "\n",
    "\n",
    "for i in range(3):\n",
    "    list1.append(int(N1) * int(N2[-(i+1)]) * (10 ** i))\n",
    "print(int(N1) * int(N2[-1]))\n",
    "print(int(N1) * int(N2[-2]))\n",
    "print(int(N1) * int(N2[-3]))\n",
    "print(list1[0] + list1[1] + list1[2])\n",
    "    "
   ]
  }
 ],
 "metadata": {
  "kernelspec": {
   "display_name": "Python 3",
   "language": "python",
   "name": "python3"
  },
  "language_info": {
   "codemirror_mode": {
    "name": "ipython",
    "version": 3
   },
   "file_extension": ".py",
   "mimetype": "text/x-python",
   "name": "python",
   "nbconvert_exporter": "python",
   "pygments_lexer": "ipython3",
   "version": "3.11.1"
  },
  "orig_nbformat": 4,
  "vscode": {
   "interpreter": {
    "hash": "aee8b7b246df8f9039afb4144a1f6fd8d2ca17a180786b69acc140d282b71a49"
   }
  }
 },
 "nbformat": 4,
 "nbformat_minor": 2
}
