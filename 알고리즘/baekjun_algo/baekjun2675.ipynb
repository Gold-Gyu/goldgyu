{
 "cells": [
  {
   "cell_type": "code",
   "execution_count": 37,
   "metadata": {},
   "outputs": [
    {
     "name": "stdout",
     "output_type": "stream",
     "text": [
      "aaabbbccc\n",
      "/////HHHHHTTTTTPPPPP\n"
     ]
    }
   ],
   "source": [
    "T = int(input())\n",
    "\n",
    "for tc in range(T):\n",
    "    A, B = input().split()\n",
    "    A = int(A)\n",
    "\n",
    "    text =''\n",
    "    for b in B:\n",
    "        ans = A * b\n",
    "        text += ans\n",
    "    print(text)\n",
    "\n",
    "    "
   ]
  },
  {
   "cell_type": "code",
   "execution_count": 51,
   "metadata": {},
   "outputs": [
    {
     "data": {
      "text/plain": [
       "-1"
      ]
     },
     "execution_count": 51,
     "metadata": {},
     "output_type": "execute_result"
    }
   ],
   "source": [
    "def collatz(num):\n",
    "\n",
    "    cnt = 0\n",
    "    while num != 1 and cnt < 500:\n",
    "        if num % 2 == 0:\n",
    "            num =  num/2\n",
    "            cnt += 1\n",
    "        else:\n",
    "            num= (num*3) + 1\n",
    "            cnt += 1\n",
    "\n",
    "        if cnt >= 500:\n",
    "            return -1\n",
    "    return cnt\n",
    "\n",
    "collatz(6)  # => 8\n",
    "collatz(16)  # => 4\n",
    "collatz(27)  # => 111\n",
    "collatz(626331)  # => -1"
   ]
  },
  {
   "cell_type": "code",
   "execution_count": 52,
   "metadata": {},
   "outputs": [],
   "source": [
    "collatz(6)  # => 8\n",
    "collatz(16)  # => 4\n",
    "collatz(27)  # => 111\n",
    "collatz(626331)  # => -1\n",
    "\n",
    "def collatz(num):\n",
    "    n = 0\n",
    "    while num != 1:\n",
    "        if num % 2 == 0:\n",
    "            num = num / 2\n",
    "            n += 1\n",
    "        elif num % 2 == 1:\n",
    "            num = num * 3 + 1\n",
    "            n += 1\n",
    "            if n > 500:\n",
    "                return -1\n",
    "    return n\n",
    "\n",
    "\n"
   ]
  }
 ],
 "metadata": {
  "kernelspec": {
   "display_name": "Python 3",
   "language": "python",
   "name": "python3"
  },
  "language_info": {
   "codemirror_mode": {
    "name": "ipython",
    "version": 3
   },
   "file_extension": ".py",
   "mimetype": "text/x-python",
   "name": "python",
   "nbconvert_exporter": "python",
   "pygments_lexer": "ipython3",
   "version": "3.11.1 (v3.11.1:a7a450f84a, Dec  6 2022, 15:24:06) [Clang 13.0.0 (clang-1300.0.29.30)]"
  },
  "orig_nbformat": 4,
  "vscode": {
   "interpreter": {
    "hash": "aee8b7b246df8f9039afb4144a1f6fd8d2ca17a180786b69acc140d282b71a49"
   }
  }
 },
 "nbformat": 4,
 "nbformat_minor": 2
}
