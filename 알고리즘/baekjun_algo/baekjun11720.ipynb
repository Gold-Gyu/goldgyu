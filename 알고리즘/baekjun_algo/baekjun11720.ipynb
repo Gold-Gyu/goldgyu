{
 "cells": [
  {
   "cell_type": "code",
   "execution_count": 3,
   "metadata": {},
   "outputs": [
    {
     "name": "stdout",
     "output_type": "stream",
     "text": [
      "46\n"
     ]
    }
   ],
   "source": [
    "T = int(input())\n",
    "\n",
    "numbers = input()\n",
    "num = []\n",
    "for number in numbers:\n",
    "    num.append(int(number))\n",
    "    \n",
    "print(sum(num))\n",
    "\n",
    "\n",
    "\n",
    "\n",
    "\n"
   ]
  },
  {
   "cell_type": "code",
   "execution_count": 3,
   "metadata": {},
   "outputs": [
    {
     "name": "stdout",
     "output_type": "stream",
     "text": [
      "1 0 -1 -1 2 -1 -1 -1 -1 4 3 -1 -1 6 -1 -1 -1 -1 -1 -1 5 -1 -1 -1 -1 -1 "
     ]
    }
   ],
   "source": [
    "S = input()\n",
    "abc ='abcdefghijklmnopqrstuvwxyz'\n",
    "\n",
    "for i in abc:\n",
    "    if i in S:\n",
    "        print(S.index(i), end= ' ')\n",
    "    else:\n",
    "        print( -1, end =' ')"
   ]
  },
  {
   "cell_type": "code",
   "execution_count": 4,
   "metadata": {},
   "outputs": [
    {
     "name": "stdout",
     "output_type": "stream",
     "text": [
      "1 0 -1 -1 2 -1 -1 -1 -1 4 3 -1 -1 6 -1 -1 -1 -1 -1 -1 5 -1 -1 -1 -1 -1 "
     ]
    }
   ],
   "source": [
    "S = input()\n",
    "\n",
    "for x in 'abcdefghijklmnopqrstuvwxyz':\n",
    "    print(S.find(x), end = ' ')"
   ]
  },
  {
   "cell_type": "code",
   "execution_count": null,
   "metadata": {},
   "outputs": [],
   "source": [
    "T = input()\n"
   ]
  }
 ],
 "metadata": {
  "kernelspec": {
   "display_name": "Python 3",
   "language": "python",
   "name": "python3"
  },
  "language_info": {
   "codemirror_mode": {
    "name": "ipython",
    "version": 3
   },
   "file_extension": ".py",
   "mimetype": "text/x-python",
   "name": "python",
   "nbconvert_exporter": "python",
   "pygments_lexer": "ipython3",
   "version": "3.11.1 (v3.11.1:a7a450f84a, Dec  6 2022, 15:24:06) [Clang 13.0.0 (clang-1300.0.29.30)]"
  },
  "orig_nbformat": 4,
  "vscode": {
   "interpreter": {
    "hash": "aee8b7b246df8f9039afb4144a1f6fd8d2ca17a180786b69acc140d282b71a49"
   }
  }
 },
 "nbformat": 4,
 "nbformat_minor": 2
}
