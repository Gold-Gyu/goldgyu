{
 "cells": [
  {
   "cell_type": "code",
   "execution_count": 1,
   "metadata": {},
   "outputs": [
    {
     "name": "stdout",
     "output_type": "stream",
     "text": [
      "10\n",
      "9\n",
      "0\n",
      "0\n",
      "0\n"
     ]
    }
   ],
   "source": [
    "# 어떤 특정 문자가 연속으로 나올 때 누적합\n",
    "# 안나오면 0\n",
    "N = int(input())\n",
    "\n",
    "\n",
    "for i in range(N):\n",
    "    OX = input()\n",
    "    sumscore = 0\n",
    "    score = 0\n",
    "    for j in OX:\n",
    "        if j == \"O\":\n",
    "            score += 1\n",
    "        else:\n",
    "            score = 0\n",
    "        sumscore += score\n",
    "    print(sumscore)\n",
    "    \n"
   ]
  }
 ],
 "metadata": {
  "kernelspec": {
   "display_name": "Python 3",
   "language": "python",
   "name": "python3"
  },
  "language_info": {
   "codemirror_mode": {
    "name": "ipython",
    "version": 3
   },
   "file_extension": ".py",
   "mimetype": "text/x-python",
   "name": "python",
   "nbconvert_exporter": "python",
   "pygments_lexer": "ipython3",
   "version": "3.11.1"
  },
  "orig_nbformat": 4,
  "vscode": {
   "interpreter": {
    "hash": "aee8b7b246df8f9039afb4144a1f6fd8d2ca17a180786b69acc140d282b71a49"
   }
  }
 },
 "nbformat": 4,
 "nbformat_minor": 2
}
