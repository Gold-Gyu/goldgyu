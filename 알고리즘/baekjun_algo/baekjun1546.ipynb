{
 "cells": [
  {
   "cell_type": "code",
   "execution_count": 25,
   "metadata": {},
   "outputs": [
    {
     "name": "stdout",
     "output_type": "stream",
     "text": [
      "75.25\n"
     ]
    }
   ],
   "source": [
    "# 각 리스트 요소들의 누적합\n",
    "\n",
    "\n",
    "lst2 = []\n",
    "ans = 0\n",
    "N = int(input())\n",
    "A = list(map(int, input().split()))\n",
    "\n",
    "\n",
    "for i in range(N):\n",
    "    B = A[i] / max(A) * 100\n",
    "    lst2.append(B)\n",
    "    ans += lst2[i]\n",
    "print((ans)/N)\n",
    "\n",
    "\n"
   ]
  }
 ],
 "metadata": {
  "kernelspec": {
   "display_name": "Python 3",
   "language": "python",
   "name": "python3"
  },
  "language_info": {
   "codemirror_mode": {
    "name": "ipython",
    "version": 3
   },
   "file_extension": ".py",
   "mimetype": "text/x-python",
   "name": "python",
   "nbconvert_exporter": "python",
   "pygments_lexer": "ipython3",
   "version": "3.11.1"
  },
  "orig_nbformat": 4,
  "vscode": {
   "interpreter": {
    "hash": "aee8b7b246df8f9039afb4144a1f6fd8d2ca17a180786b69acc140d282b71a49"
   }
  }
 },
 "nbformat": 4,
 "nbformat_minor": 2
}
